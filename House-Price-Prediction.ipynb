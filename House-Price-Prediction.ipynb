{
 "cells": [
  {
   "cell_type": "markdown",
   "metadata": {},
   "source": [
    "# A Prediction of Ames House Price\n",
    "---\n",
    "### Research task for Data Analysis course at SSE masters program\n",
    "### HSE, spring of 2020\n",
    "\n",
    "**Authors:** [Miron Rogovets](https://github.com/Mist3r-R), [Demid Afonichev](https://github.com/demidafonichev)\n",
    "\n",
    "---\n",
    "\n",
    "![house](images/housesbanner.png)\n",
    "\n",
    "The dataset was taken from **\"House Prices: Advanced Regression Techniques\"** [competition on Kaggle](https://www.kaggle.com/c/house-prices-advanced-regression-techniques).\n",
    "\n",
    "With *SalePrice* target variable and *79 explanatory variables* it describes (almost) every aspect of residential homes in Ames, Iowa.\n",
    "\n",
    "Full data description, as well as competition description and more details, can be found via link above."
   ]
  },
  {
   "cell_type": "code",
   "execution_count": null,
   "metadata": {},
   "outputs": [],
   "source": []
  }
 ],
 "metadata": {
  "kernelspec": {
   "display_name": "Python 3",
   "language": "python",
   "name": "python3"
  },
  "language_info": {
   "codemirror_mode": {
    "name": "ipython",
    "version": 3
   },
   "file_extension": ".py",
   "mimetype": "text/x-python",
   "name": "python",
   "nbconvert_exporter": "python",
   "pygments_lexer": "ipython3",
   "version": "3.7.6"
  }
 },
 "nbformat": 4,
 "nbformat_minor": 4
}
